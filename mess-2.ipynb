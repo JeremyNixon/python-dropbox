{
 "metadata": {
  "name": "",
  "signature": "sha256:7011e6863f959b89901a18ddc598b19129faf6c761f6d023df7d6f98d9cef3d4"
 },
 "nbformat": 3,
 "nbformat_minor": 0,
 "worksheets": [
  {
   "cells": [
    {
     "cell_type": "code",
     "collapsed": false,
     "input": [
      "import csv\n",
      "import gzip\n",
      "import numpy as np\n",
      "from sklearn import linear_model\n",
      "from sklearn import svm\n",
      "from sklearn import ensemble\n",
      "from sklearn import cross_validation\n",
      "import seaborn as sns\n",
      "import matplotlib.pyplot as plt\n",
      "import time\n",
      "\n",
      "%matplotlib inline\n",
      "train_filename = 'train.csv.gz'\n",
      "test_filename  = 'test.csv.gz'"
     ],
     "language": "python",
     "metadata": {},
     "outputs": [],
     "prompt_number": 2
    },
    {
     "cell_type": "code",
     "collapsed": true,
     "input": [
      "# Load the training file PLEASE ONLY RUN ONCE TAKES FOREVER\n",
      "train_data = []\n",
      "with gzip.open(train_filename, 'r') as train_fh:\n",
      "\n",
      "    # Parse it as a CSV file.\n",
      "    train_csv = csv.reader(train_fh, delimiter=',', quotechar='\"')\n",
      "    \n",
      "    # Skip the header row.\n",
      "    next(train_csv, None)\n",
      "\n",
      "    # Load the data.\n",
      "    temp = 0\n",
      "    for row in train_csv:\n",
      "        temp += 1\n",
      "        if temp % 50000 == 0:\n",
      "            print temp\n",
      "        smiles   = row[0]\n",
      "        features = np.array([float(x) for x in row[1:257]])\n",
      "        gap      = float(row[257])\n",
      "        \n",
      "        train_data.append({ 'smiles':   smiles,\n",
      "                            'features': features,\n",
      "                            'gap':      gap })"
     ],
     "language": "python",
     "metadata": {},
     "outputs": [
      {
       "output_type": "stream",
       "stream": "stdout",
       "text": [
        "50000\n",
        "100000"
       ]
      },
      {
       "output_type": "stream",
       "stream": "stdout",
       "text": [
        "\n",
        "150000"
       ]
      },
      {
       "output_type": "stream",
       "stream": "stdout",
       "text": [
        "\n",
        "200000"
       ]
      },
      {
       "output_type": "stream",
       "stream": "stdout",
       "text": [
        "\n",
        "250000"
       ]
      },
      {
       "output_type": "stream",
       "stream": "stdout",
       "text": [
        "\n",
        "300000"
       ]
      },
      {
       "output_type": "stream",
       "stream": "stdout",
       "text": [
        "\n",
        "350000"
       ]
      },
      {
       "output_type": "stream",
       "stream": "stdout",
       "text": [
        "\n",
        "400000"
       ]
      },
      {
       "output_type": "stream",
       "stream": "stdout",
       "text": [
        "\n",
        "450000"
       ]
      },
      {
       "output_type": "stream",
       "stream": "stdout",
       "text": [
        "\n",
        "500000"
       ]
      },
      {
       "output_type": "stream",
       "stream": "stdout",
       "text": [
        "\n",
        "550000"
       ]
      },
      {
       "output_type": "stream",
       "stream": "stdout",
       "text": [
        "\n",
        "600000"
       ]
      },
      {
       "output_type": "stream",
       "stream": "stdout",
       "text": [
        "\n",
        "650000"
       ]
      },
      {
       "output_type": "stream",
       "stream": "stdout",
       "text": [
        "\n",
        "700000"
       ]
      },
      {
       "output_type": "stream",
       "stream": "stdout",
       "text": [
        "\n",
        "750000"
       ]
      },
      {
       "output_type": "stream",
       "stream": "stdout",
       "text": [
        "\n",
        "800000"
       ]
      },
      {
       "output_type": "stream",
       "stream": "stdout",
       "text": [
        "\n",
        "850000"
       ]
      },
      {
       "output_type": "stream",
       "stream": "stdout",
       "text": [
        "\n",
        "900000"
       ]
      },
      {
       "output_type": "stream",
       "stream": "stdout",
       "text": [
        "\n",
        "950000"
       ]
      },
      {
       "output_type": "stream",
       "stream": "stdout",
       "text": [
        "\n",
        "1000000"
       ]
      },
      {
       "output_type": "stream",
       "stream": "stdout",
       "text": [
        "\n"
       ]
      }
     ],
     "prompt_number": 3
    },
    {
     "cell_type": "code",
     "collapsed": true,
     "input": [
      "# Load the test file PLEASE ONLY RUN ONCE TAKES FOREVER\n",
      "test_data = []\n",
      "with gzip.open(test_filename, 'r') as test_fh:\n",
      "\n",
      "    # Parse it as a CSV file.\n",
      "    test_csv = csv.reader(test_fh, delimiter=',', quotechar='\"')\n",
      "    \n",
      "    # Skip the header row.\n",
      "    next(test_csv, None)\n",
      "\n",
      "    # Load the data.\n",
      "    temp = 0\n",
      "    for row in test_csv:\n",
      "        temp += 1\n",
      "        if temp % 50000 == 0:\n",
      "            print temp\n",
      "        id       = row[0]\n",
      "        smiles   = row[1]\n",
      "        features = np.array([float(x) for x in row[2:258]])\n",
      "        \n",
      "        test_data.append({ 'id':       id,\n",
      "                           'smiles':   smiles,\n",
      "                           'features': features })\n",
      "\n",
      "print \"test data loaded\""
     ],
     "language": "python",
     "metadata": {},
     "outputs": [
      {
       "output_type": "stream",
       "stream": "stdout",
       "text": [
        "50000\n",
        "100000"
       ]
      },
      {
       "output_type": "stream",
       "stream": "stdout",
       "text": [
        "\n",
        "150000"
       ]
      },
      {
       "output_type": "stream",
       "stream": "stdout",
       "text": [
        "\n",
        "200000"
       ]
      },
      {
       "output_type": "stream",
       "stream": "stdout",
       "text": [
        "\n",
        "250000"
       ]
      },
      {
       "output_type": "stream",
       "stream": "stdout",
       "text": [
        "\n",
        "300000"
       ]
      },
      {
       "output_type": "stream",
       "stream": "stdout",
       "text": [
        "\n",
        "350000"
       ]
      },
      {
       "output_type": "stream",
       "stream": "stdout",
       "text": [
        "\n",
        "400000"
       ]
      },
      {
       "output_type": "stream",
       "stream": "stdout",
       "text": [
        "\n",
        "450000"
       ]
      },
      {
       "output_type": "stream",
       "stream": "stdout",
       "text": [
        "\n",
        "500000"
       ]
      },
      {
       "output_type": "stream",
       "stream": "stdout",
       "text": [
        "\n",
        "550000"
       ]
      },
      {
       "output_type": "stream",
       "stream": "stdout",
       "text": [
        "\n",
        "600000"
       ]
      },
      {
       "output_type": "stream",
       "stream": "stdout",
       "text": [
        "\n",
        "650000"
       ]
      },
      {
       "output_type": "stream",
       "stream": "stdout",
       "text": [
        "\n",
        "700000"
       ]
      },
      {
       "output_type": "stream",
       "stream": "stdout",
       "text": [
        "\n",
        "750000"
       ]
      },
      {
       "output_type": "stream",
       "stream": "stdout",
       "text": [
        "\n",
        "800000"
       ]
      },
      {
       "output_type": "stream",
       "stream": "stdout",
       "text": [
        "\n",
        "test data loaded"
       ]
      },
      {
       "output_type": "stream",
       "stream": "stdout",
       "text": [
        "\n"
       ]
      }
     ],
     "prompt_number": 4
    },
    {
     "cell_type": "code",
     "collapsed": false,
     "input": [
      "# returns mean for every prediction (baseline)\n",
      "def fit_mean(X_train, y_train, X_test, y_test):\n",
      "    mae = MAE(np.mean(y_train)*np.ones(y_test.shape), y_test)\n",
      "    return np.mean(y_train)\n",
      "\n",
      "# Linear regression (vanilla)\n",
      "# returns a fit\n",
      "def fit_linreg(X_train, y_train, X_test, y_test):\n",
      "    clf = linear_model.LinearRegression()\n",
      "    clf.fit(X_train, y_train)\n",
      "    \n",
      "    y_prediction = clf.predict(X_test)\n",
      "    mae = MAE(y_prediction, y_test)\n",
      "    return clf\n",
      "\n",
      "# stochastic gradient descent regression with elastic net\n",
      "def fit_SGDreg(X_train, y_train, X_test, y_test):\n",
      "    clf = linear_model.SGDRegressor(penalty='elasticnet')\n",
      "    clf.fit(X_train, y_train)\n",
      "    \n",
      "    y_prediction = clf.predict(X_test)\n",
      "    mae = MAE(y_prediction, y_test)\n",
      "    return clf\n",
      "\n",
      "# support vector regression\n",
      "def fit_svr(X_train, y_train, X_test, y_test):\n",
      "    clf = svm.SVR()\n",
      "    clf.fit(X_train, y_train)\n",
      "    \n",
      "    y_prediction = clf.predict(X_test)\n",
      "    mae = MAE(y_prediction, y_test)\n",
      "    return clf\n",
      "\n",
      "# ridge regression with cross validation\n",
      "def fit_ridgecv(X_train, y_train, X_test, y_test):\n",
      "    clf = linear_model.RidgeCV(alphas=[0.1, 0.5, 1.0, 5.0, 10.0, 20.0])\n",
      "    clf.fit(X_train, y_train)\n",
      "    \n",
      "    y_prediction = clf.predict(X_test)\n",
      "    mae = MAE(y_prediction, y_test)\n",
      "    return clf\n",
      "\n",
      "def fit_randomforest(X_train, y_train, X_test, y_test, **kwargs):\n",
      "    clf = ensemble.RandomForestRegressor(**kwargs)\n",
      "    clf.fit(X_train, y_train)\n",
      "    \n",
      "    y_prediction = clf.predict(X_test)\n",
      "    mae = MAE(y_prediction, y_test)\n",
      "    return clf\n",
      "\n",
      "# calculates MAE\n",
      "def MAE(prediction, truth):\n",
      "    mae = np.sqrt(np.linalg.norm(np.array(prediction)-np.array(truth))**2/len(prediction)) \n",
      "    print \"MAE:\", mae\n",
      "    return mae"
     ],
     "language": "python",
     "metadata": {},
     "outputs": [],
     "prompt_number": 116
    },
    {
     "cell_type": "code",
     "collapsed": false,
     "input": [
      "# Compute the mean of the gaps in the training data.\n",
      "#gaps = np.array([datum['gap'] for datum in train_data])\n",
      "#mean_gap = np.mean(gaps)\n",
      "\n",
      "# regression setup\n",
      "X = np.vstack(tuple([d['features'] for d in train_data]))\n",
      "print X.shape\n",
      "y = [d['gap'] for d in train_data]\n",
      "\n",
      "X_train, X_test, y_train, y_test = cross_validation.train_test_split(X, y, test_size=0.2, random_state=0)\n",
      "\n",
      "print X_train.shape\n",
      "print X_test.shape"
     ],
     "language": "python",
     "metadata": {},
     "outputs": [
      {
       "output_type": "stream",
       "stream": "stdout",
       "text": [
        "(1000000L, 256L)\n",
        "(800000L, 256L)"
       ]
      },
      {
       "output_type": "stream",
       "stream": "stdout",
       "text": [
        "\n",
        "(200000L, 256L)\n"
       ]
      }
     ],
     "prompt_number": 9
    },
    {
     "cell_type": "code",
     "collapsed": false,
     "input": [
      "clf_sgd = fit_SGDreg(X_train, y_train, X_test, y_test)"
     ],
     "language": "python",
     "metadata": {},
     "outputs": [
      {
       "output_type": "stream",
       "stream": "stdout",
       "text": [
        "MAE: 0.299260926711\n"
       ]
      }
     ],
     "prompt_number": 9
    },
    {
     "cell_type": "code",
     "collapsed": false,
     "input": [
      "clf_linreg = fit_linreg(X_train, y_train, X_test, y_test)"
     ],
     "language": "python",
     "metadata": {},
     "outputs": [
      {
       "output_type": "stream",
       "stream": "stdout",
       "text": [
        "MAE: 0.298888054579\n"
       ]
      }
     ],
     "prompt_number": 10
    },
    {
     "cell_type": "code",
     "collapsed": false,
     "input": [
      "clf_mean = fit_mean(X_train, y_train, X_test, y_test)"
     ],
     "language": "python",
     "metadata": {},
     "outputs": [
      {
       "output_type": "stream",
       "stream": "stdout",
       "text": [
        "MAE: 0.407101315643\n"
       ]
      }
     ],
     "prompt_number": 11
    },
    {
     "cell_type": "code",
     "collapsed": false,
     "input": [
      "clf_ridgecv = fit_ridgecv(X_train, y_train, X_test, y_test)"
     ],
     "language": "python",
     "metadata": {},
     "outputs": [
      {
       "output_type": "stream",
       "stream": "stdout",
       "text": [
        "MAE: 0.29888462488\n"
       ]
      }
     ],
     "prompt_number": 12
    },
    {
     "cell_type": "code",
     "collapsed": false,
     "input": [
      "X_small = X_train[0:10000,:]\n",
      "y_small = y_train[0:10000]\n",
      "# print X_small.shape\n",
      "# print y_small.shape\n",
      "clf_svr = fit_svr(X_small, y_small, X_test, y_test)"
     ],
     "language": "python",
     "metadata": {},
     "outputs": [
      {
       "output_type": "stream",
       "stream": "stdout",
       "text": [
        "MAE: 0.29774409974\n"
       ]
      }
     ],
     "prompt_number": 13
    },
    {
     "cell_type": "code",
     "collapsed": false,
     "input": [
      "def tune_rf_trees(max_test, X_train, y_train, X_test, y_test, **kwargs):\n",
      "    list_of_scores = []\n",
      "    for i in xrange(1, max_test):\n",
      "        clf = ensemble.RandomForestRegressor(n_estimators=i, **kwargs)\n",
      "        clf.fit(X_train, y_train)\n",
      "        y_prediction = clf.predict(X_test)\n",
      "        mae = MAE(y_prediction, y_test)\n",
      "        list_of_scores.append(mae)\n",
      "        \n",
      "    # Graph the Random Forest Classifier\n",
      "    plt.bar(np.arange(max_test-1),list_of_scores)\n",
      "    plt.title('Boxplot of Cross Validation Scores vs. Number of Trees')\n",
      "    plt.xlabel('Number of Trees')\n",
      "    plt.ylabel('Score')\n",
      "    return list_of_scores\n",
      "\n",
      "X_small = X_train[0:20000,:]\n",
      "y_small = y_train[0:20000]\n",
      "max_test = 30\n",
      "\n",
      "t0 = time.time()\n",
      "test_scores = tune_rf_trees(max_test, X_small, y_small, X_test, y_test, max_features='sqrt')\n",
      "print time.time() - t0, \"seconds wall time\""
     ],
     "language": "python",
     "metadata": {},
     "outputs": [
      {
       "output_type": "stream",
       "stream": "stdout",
       "text": [
        "MAE: 0.290926081877\n",
        "MAE:"
       ]
      },
      {
       "output_type": "stream",
       "stream": "stdout",
       "text": [
        " 0.285686924169\n",
        "MAE:"
       ]
      },
      {
       "output_type": "stream",
       "stream": "stdout",
       "text": [
        " 0.283392954638\n",
        "MAE:"
       ]
      },
      {
       "output_type": "stream",
       "stream": "stdout",
       "text": [
        " 0.282738024643\n",
        "MAE:"
       ]
      },
      {
       "output_type": "stream",
       "stream": "stdout",
       "text": [
        " 0.282321057965\n",
        "MAE:"
       ]
      },
      {
       "output_type": "stream",
       "stream": "stdout",
       "text": [
        " 0.281374507349\n",
        "MAE:"
       ]
      },
      {
       "output_type": "stream",
       "stream": "stdout",
       "text": [
        " 0.281860856406\n",
        "MAE:"
       ]
      },
      {
       "output_type": "stream",
       "stream": "stdout",
       "text": [
        " 0.281401617995\n",
        "MAE:"
       ]
      },
      {
       "output_type": "stream",
       "stream": "stdout",
       "text": [
        " 0.281395624409\n",
        "MAE:"
       ]
      },
      {
       "output_type": "stream",
       "stream": "stdout",
       "text": [
        " 0.281234633524\n",
        "MAE:"
       ]
      },
      {
       "output_type": "stream",
       "stream": "stdout",
       "text": [
        " 0.280958396237\n",
        "MAE:"
       ]
      },
      {
       "output_type": "stream",
       "stream": "stdout",
       "text": [
        " 0.281427076382\n",
        "MAE:"
       ]
      },
      {
       "output_type": "stream",
       "stream": "stdout",
       "text": [
        " 0.280628271153\n",
        "MAE:"
       ]
      },
      {
       "output_type": "stream",
       "stream": "stdout",
       "text": [
        " 0.280672660235\n",
        "MAE:"
       ]
      },
      {
       "output_type": "stream",
       "stream": "stdout",
       "text": [
        " 0.280751714568\n",
        "MAE:"
       ]
      },
      {
       "output_type": "stream",
       "stream": "stdout",
       "text": [
        " 0.280203043346\n",
        "MAE:"
       ]
      },
      {
       "output_type": "stream",
       "stream": "stdout",
       "text": [
        " 0.280740974496\n",
        "MAE:"
       ]
      },
      {
       "output_type": "stream",
       "stream": "stdout",
       "text": [
        " 0.280542733077\n",
        "MAE:"
       ]
      },
      {
       "output_type": "stream",
       "stream": "stdout",
       "text": [
        " 0.28047794565\n",
        "MAE:"
       ]
      },
      {
       "output_type": "stream",
       "stream": "stdout",
       "text": [
        " 0.280540041446\n",
        "MAE:"
       ]
      },
      {
       "output_type": "stream",
       "stream": "stdout",
       "text": [
        " 0.280634164151\n",
        "MAE:"
       ]
      },
      {
       "output_type": "stream",
       "stream": "stdout",
       "text": [
        " 0.280518440752\n",
        "MAE:"
       ]
      },
      {
       "output_type": "stream",
       "stream": "stdout",
       "text": [
        " 0.280463300216\n",
        "MAE:"
       ]
      },
      {
       "output_type": "stream",
       "stream": "stdout",
       "text": [
        " 0.280298834396\n",
        "MAE:"
       ]
      },
      {
       "output_type": "stream",
       "stream": "stdout",
       "text": [
        " 0.280493596873\n",
        "MAE:"
       ]
      },
      {
       "output_type": "stream",
       "stream": "stdout",
       "text": [
        " 0.2803598652\n",
        "MAE:"
       ]
      },
      {
       "output_type": "stream",
       "stream": "stdout",
       "text": [
        " 0.280300865941\n",
        "MAE:"
       ]
      },
      {
       "output_type": "stream",
       "stream": "stdout",
       "text": [
        " 0.280300023884\n",
        "MAE:"
       ]
      },
      {
       "output_type": "stream",
       "stream": "stdout",
       "text": [
        " 0.280356595487\n",
        "167.907000065"
       ]
      },
      {
       "output_type": "stream",
       "stream": "stdout",
       "text": [
        " seconds wall time\n"
       ]
      },
      {
       "metadata": {},
       "output_type": "display_data",
       "png": "[encoded data removed]",
       "text": [
        "<matplotlib.figure.Figure at 0x14ae73518>"
       ]
      }
     ],
     "prompt_number": 32
    },
    {
     "cell_type": "code",
     "collapsed": false,
     "input": [
      "t0 = time.time()\n",
      "clf_rf = fit_randomforest(X, y, X_test, y_test, n_estimators=30, max_features='sqrt')\n",
      "print time.time() - t0, \"seconds wall time\""
     ],
     "language": "python",
     "metadata": {},
     "outputs": [
      {
       "output_type": "stream",
       "stream": "stdout",
       "text": [
        "MAE: 0.271933023959\n",
        "979.453999996"
       ]
      },
      {
       "output_type": "stream",
       "stream": "stdout",
       "text": [
        " seconds wall time\n"
       ]
      }
     ],
     "prompt_number": 12
    },
    {
     "cell_type": "code",
     "collapsed": false,
     "input": [
      "# Write a prediction file. \n",
      "pred_filename  = '7_rf_regression_30trees_sqrtfeat_alldata.csv'\n",
      "with open(pred_filename, 'wb') as pred_fh:\n",
      "\n",
      "    # Produce a CSV file.\n",
      "    pred_csv = csv.writer(pred_fh, delimiter=',', quotechar='\"')\n",
      "\n",
      "    # Write the header row.\n",
      "    pred_csv.writerow(['Id', 'Prediction'])\n",
      "\n",
      "    prog = 0\n",
      "    for datum in test_data:\n",
      "        prog += 1\n",
      "        if prog % 50000 == 0:\n",
      "            print prog\n",
      "        #pred_csv.writerow([datum['id'], mean_gap])\n",
      "        pred_csv.writerow([datum['id'], clf_rf.predict(datum['features'])[0]])\n",
      "    print \"done\""
     ],
     "language": "python",
     "metadata": {},
     "outputs": [
      {
       "output_type": "stream",
       "stream": "stdout",
       "text": [
        "50000\n",
        "100000"
       ]
      },
      {
       "output_type": "stream",
       "stream": "stdout",
       "text": [
        "\n",
        "150000"
       ]
      },
      {
       "output_type": "stream",
       "stream": "stdout",
       "text": [
        "\n",
        "200000"
       ]
      },
      {
       "output_type": "stream",
       "stream": "stdout",
       "text": [
        "\n",
        "250000"
       ]
      },
      {
       "output_type": "stream",
       "stream": "stdout",
       "text": [
        "\n",
        "300000"
       ]
      },
      {
       "output_type": "stream",
       "stream": "stdout",
       "text": [
        "\n",
        "350000"
       ]
      },
      {
       "output_type": "stream",
       "stream": "stdout",
       "text": [
        "\n",
        "400000"
       ]
      },
      {
       "output_type": "stream",
       "stream": "stdout",
       "text": [
        "\n",
        "450000"
       ]
      },
      {
       "output_type": "stream",
       "stream": "stdout",
       "text": [
        "\n",
        "500000"
       ]
      },
      {
       "output_type": "stream",
       "stream": "stdout",
       "text": [
        "\n",
        "550000"
       ]
      },
      {
       "output_type": "stream",
       "stream": "stdout",
       "text": [
        "\n",
        "600000"
       ]
      },
      {
       "output_type": "stream",
       "stream": "stdout",
       "text": [
        "\n",
        "650000"
       ]
      },
      {
       "output_type": "stream",
       "stream": "stdout",
       "text": [
        "\n",
        "700000"
       ]
      },
      {
       "output_type": "stream",
       "stream": "stdout",
       "text": [
        "\n",
        "750000"
       ]
      },
      {
       "output_type": "stream",
       "stream": "stdout",
       "text": [
        "\n",
        "800000"
       ]
      },
      {
       "output_type": "stream",
       "stream": "stdout",
       "text": [
        "\n",
        "done"
       ]
      },
      {
       "output_type": "stream",
       "stream": "stdout",
       "text": [
        "\n"
       ]
      }
     ],
     "prompt_number": 13
    },
    {
     "cell_type": "code",
     "collapsed": false,
     "input": [
      "from rdkit import Chem\n",
      "from rdkit import DataStructs\n",
      "from rdkit.Chem.Fingerprints import FingerprintMols\n",
      "\n",
      "t0 = time.time()\n",
      "\n",
      "topo_fp = []\n",
      "count = 0\n",
      "for datum in train_data:\n",
      "    count += 1\n",
      "    if count % 50000 == 0:\n",
      "        print count\n",
      "    m = Chem.MolFromSmiles(datum['smiles'])\n",
      "    #x = FingerprintMols.FingerprintMol(m, fpSize=1024)\n",
      "    x = Chem.RDKFingerprint(m, fpSize=1024)\n",
      "    arr = np.zeros((1,))\n",
      "    DataStructs.ConvertToNumpyArray(x, arr)\n",
      "    topo_fp.append(arr)\n",
      "    \n",
      "print time.time() - t0, \"seconds wall time\"\n",
      "\n",
      "\n",
      "#from rdkit.Chem import AllChem\n",
      "#m1 = Chem.MolFromSmiles(train_data[0]['smiles'])\n",
      "#x = AllChem.GetMorganFingerprintAsBitVect(m1,1, nBits=256)\n",
      "\n",
      "#AllChem.GetMorganFingerprintAsBitVect(mol, 1, nBits=256, useFeatures=True)\n",
      "\n",
      "\n",
      "#arr = np.zeros((1,))\n",
      "#DataStructs.ConvertToNumpyArray(x, arr)\n",
      "#print (arr)\n",
      "\n",
      "#train_data[0]['features']"
     ],
     "language": "python",
     "metadata": {},
     "outputs": [
      {
       "output_type": "stream",
       "stream": "stdout",
       "text": [
        "5479.09500003 seconds wall time\n"
       ]
      }
     ],
     "prompt_number": 108
    },
    {
     "cell_type": "code",
     "collapsed": false,
     "input": [
      "# regression setup\n",
      "X = np.vstack(tuple(topo_fp))\n",
      "print X.shape\n",
      "y = [d['gap'] for d in train_data]\n",
      "\n",
      "X_train, X_test, y_train, y_test = cross_validation.train_test_split(X, y, test_size=0.2, random_state=0)\n",
      "\n",
      "print X_train.shape\n",
      "print X_test.shape"
     ],
     "language": "python",
     "metadata": {},
     "outputs": [
      {
       "output_type": "stream",
       "stream": "stdout",
       "text": [
        "(1000000L, 1024L)\n",
        "(800000L, 1024L)"
       ]
      },
      {
       "output_type": "stream",
       "stream": "stdout",
       "text": [
        "\n",
        "(200000L, 1024L)\n"
       ]
      }
     ],
     "prompt_number": 114
    },
    {
     "cell_type": "code",
     "collapsed": false,
     "input": [
      "np.savetxt('RDKFingerprint_1024.csv.gz', X, delimiter=',')"
     ],
     "language": "python",
     "metadata": {},
     "outputs": [],
     "prompt_number": 122
    },
    {
     "cell_type": "code",
     "collapsed": false,
     "input": [
      "clf_linreg = fit_linreg(X_train, y_train, X_test, y_test)"
     ],
     "language": "python",
     "metadata": {},
     "outputs": [
      {
       "output_type": "stream",
       "stream": "stdout",
       "text": [
        "MAE: 0.182087743855\n"
       ]
      }
     ],
     "prompt_number": 117
    },
    {
     "cell_type": "code",
     "collapsed": false,
     "input": [
      "X_small = X_train[0:100000,:]\n",
      "y_small = y_train[0:100000]\n",
      "t0 = time.time()\n",
      "clf_rf = fit_randomforest(X_small, y_small, X_test, y_test, n_estimators=30, max_features='sqrt')\n",
      "print time.time() - t0, \"seconds wall time\""
     ],
     "language": "python",
     "metadata": {},
     "outputs": [
      {
       "output_type": "stream",
       "stream": "stdout",
       "text": [
        "MAE: 0.167355842449\n",
        "134.968000174 seconds wall time\n"
       ]
      }
     ],
     "prompt_number": 121
    },
    {
     "cell_type": "code",
     "collapsed": false,
     "input": [],
     "language": "python",
     "metadata": {},
     "outputs": []
    }
   ],
   "metadata": {}
  }
 ]
}